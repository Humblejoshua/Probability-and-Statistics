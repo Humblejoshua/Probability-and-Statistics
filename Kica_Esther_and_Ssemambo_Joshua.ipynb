{
 "cells": [
  {
   "cell_type": "markdown",
   "metadata": {},
   "source": [
    "## ESTHER KICA \n",
    "- M24B38/010\n",
    "## SSEMAMBO JOSHUA HUMBLE\n",
    "- M24B38/003\n"
   ]
  },
  {
   "cell_type": "markdown",
   "metadata": {},
   "source": [
    "## Practice Exercise ##\n",
    "* Using the diamonds dataset, test the hypothesis that average price of all carat categories are the same."
   ]
  },
  {
   "cell_type": "markdown",
   "metadata": {},
   "source": []
  },
  {
   "cell_type": "code",
   "execution_count": 1,
   "metadata": {},
   "outputs": [
    {
     "data": {
      "text/html": [
       "<div>\n",
       "<style scoped>\n",
       "    .dataframe tbody tr th:only-of-type {\n",
       "        vertical-align: middle;\n",
       "    }\n",
       "\n",
       "    .dataframe tbody tr th {\n",
       "        vertical-align: top;\n",
       "    }\n",
       "\n",
       "    .dataframe thead th {\n",
       "        text-align: right;\n",
       "    }\n",
       "</style>\n",
       "<table border=\"1\" class=\"dataframe\">\n",
       "  <thead>\n",
       "    <tr style=\"text-align: right;\">\n",
       "      <th></th>\n",
       "      <th>price</th>\n",
       "      <th>carat</th>\n",
       "      <th>cut</th>\n",
       "      <th>color</th>\n",
       "      <th>clarity</th>\n",
       "      <th>depth</th>\n",
       "      <th>table</th>\n",
       "      <th>x</th>\n",
       "      <th>y</th>\n",
       "      <th>z</th>\n",
       "    </tr>\n",
       "  </thead>\n",
       "  <tbody>\n",
       "    <tr>\n",
       "      <th>0</th>\n",
       "      <td>326</td>\n",
       "      <td>0.23</td>\n",
       "      <td>Ideal</td>\n",
       "      <td>E</td>\n",
       "      <td>SI2</td>\n",
       "      <td>61.5</td>\n",
       "      <td>55.0</td>\n",
       "      <td>3.95</td>\n",
       "      <td>3.98</td>\n",
       "      <td>2.43</td>\n",
       "    </tr>\n",
       "    <tr>\n",
       "      <th>1</th>\n",
       "      <td>326</td>\n",
       "      <td>0.21</td>\n",
       "      <td>Premium</td>\n",
       "      <td>E</td>\n",
       "      <td>SI1</td>\n",
       "      <td>59.8</td>\n",
       "      <td>61.0</td>\n",
       "      <td>3.89</td>\n",
       "      <td>3.84</td>\n",
       "      <td>2.31</td>\n",
       "    </tr>\n",
       "    <tr>\n",
       "      <th>2</th>\n",
       "      <td>327</td>\n",
       "      <td>0.23</td>\n",
       "      <td>Good</td>\n",
       "      <td>E</td>\n",
       "      <td>VS1</td>\n",
       "      <td>56.9</td>\n",
       "      <td>65.0</td>\n",
       "      <td>4.05</td>\n",
       "      <td>4.07</td>\n",
       "      <td>2.31</td>\n",
       "    </tr>\n",
       "    <tr>\n",
       "      <th>3</th>\n",
       "      <td>334</td>\n",
       "      <td>0.29</td>\n",
       "      <td>Premium</td>\n",
       "      <td>I</td>\n",
       "      <td>VS2</td>\n",
       "      <td>62.4</td>\n",
       "      <td>58.0</td>\n",
       "      <td>4.20</td>\n",
       "      <td>4.23</td>\n",
       "      <td>2.63</td>\n",
       "    </tr>\n",
       "    <tr>\n",
       "      <th>4</th>\n",
       "      <td>335</td>\n",
       "      <td>0.31</td>\n",
       "      <td>Good</td>\n",
       "      <td>J</td>\n",
       "      <td>SI2</td>\n",
       "      <td>63.3</td>\n",
       "      <td>58.0</td>\n",
       "      <td>4.34</td>\n",
       "      <td>4.35</td>\n",
       "      <td>2.75</td>\n",
       "    </tr>\n",
       "  </tbody>\n",
       "</table>\n",
       "</div>"
      ],
      "text/plain": [
       "   price  carat      cut color clarity  depth  table     x     y     z\n",
       "0    326   0.23    Ideal     E     SI2   61.5   55.0  3.95  3.98  2.43\n",
       "1    326   0.21  Premium     E     SI1   59.8   61.0  3.89  3.84  2.31\n",
       "2    327   0.23     Good     E     VS1   56.9   65.0  4.05  4.07  2.31\n",
       "3    334   0.29  Premium     I     VS2   62.4   58.0  4.20  4.23  2.63\n",
       "4    335   0.31     Good     J     SI2   63.3   58.0  4.34  4.35  2.75"
      ]
     },
     "execution_count": 1,
     "metadata": {},
     "output_type": "execute_result"
    }
   ],
   "source": [
    "import pandas as pd\n",
    "diamonds = pd.read_excel(\"diamonds_new.xlsx\")\n",
    "diamonds.head()"
   ]
  },
  {
   "cell_type": "markdown",
   "metadata": {},
   "source": [
    "#### finding the hypothesis of whether the average price of the table categories is the same"
   ]
  },
  {
   "cell_type": "code",
   "execution_count": 3,
   "metadata": {},
   "outputs": [],
   "source": [
    "from scipy import stats"
   ]
  },
  {
   "cell_type": "code",
   "execution_count": 4,
   "metadata": {},
   "outputs": [
    {
     "data": {
      "text/plain": [
       "3933.4921735905045"
      ]
     },
     "execution_count": 4,
     "metadata": {},
     "output_type": "execute_result"
    }
   ],
   "source": [
    "#finding the mean of the price\n",
    "mean_price = diamonds['price'].mean()\n",
    "mean_price"
   ]
  },
  {
   "cell_type": "markdown",
   "metadata": {},
   "source": [
    "- mean of price is 3933.492174 rounded off to 3933.49"
   ]
  },
  {
   "cell_type": "code",
   "execution_count": 5,
   "metadata": {},
   "outputs": [
    {
     "name": "stdout",
     "output_type": "stream",
     "text": [
      "carat_category\n",
      "(0.2, 1.0]    36406\n",
      "(1.0, 2.0]    15613\n",
      "(2.0, 3.0]     1857\n",
      "(3.0, 4.0]       27\n",
      "(4.0, 5.0]        4\n",
      "(5.0, 6.0]        1\n",
      "Name: count, dtype: int64\n"
     ]
    }
   ],
   "source": [
    "# Creating carat categories by binning the 'carat' values into equal-sized bins\n",
    "# Define adjusted bins based on actual data range\n",
    "bins = [0.2, 1.0, 2.0, 3.0, 4.0,5.0,6.0]\n",
    "\n",
    "# Recreate carat categories using pd.cut\n",
    "diamonds['carat_category'] = pd.cut(diamonds['carat'], bins=bins)\n",
    "\n",
    "# Check if the bins are populated\n",
    "print(diamonds['carat_category'].value_counts())\n"
   ]
  },
  {
   "cell_type": "markdown",
   "metadata": {},
   "source": [
    "- this indicates the number of diamonds that are in each catergory of carat<br>\n",
    "for example<br>\n",
    "bin (4.0,5.0) has 4 diamonds that are in that catergory"
   ]
  },
  {
   "cell_type": "code",
   "execution_count": 6,
   "metadata": {},
   "outputs": [
    {
     "name": "stdout",
     "output_type": "stream",
     "text": [
      "   carat carat_category\n",
      "0   0.23     (0.2, 1.0]\n",
      "1   0.21     (0.2, 1.0]\n",
      "2   0.23     (0.2, 1.0]\n",
      "3   0.29     (0.2, 1.0]\n",
      "4   0.31     (0.2, 1.0]\n",
      "5   0.24     (0.2, 1.0]\n",
      "6   0.26     (0.2, 1.0]\n",
      "7   0.22     (0.2, 1.0]\n",
      "8   0.23     (0.2, 1.0]\n",
      "9   0.30     (0.2, 1.0]\n"
     ]
    }
   ],
   "source": [
    "print(diamonds[['carat', 'carat_category']].head(10))  # Display carat and the corresponding category\n"
   ]
  },
  {
   "cell_type": "code",
   "execution_count": 28,
   "metadata": {},
   "outputs": [
    {
     "name": "stdout",
     "output_type": "stream",
     "text": [
      "   price  carat      cut color clarity  depth  table     x     y     z  \\\n",
      "0    326   0.23    Ideal     E     SI2   61.5   55.0  3.95  3.98  2.43   \n",
      "1    326   0.21  Premium     E     SI1   59.8   61.0  3.89  3.84  2.31   \n",
      "2    327   0.23     Good     E     VS1   56.9   65.0  4.05  4.07  2.31   \n",
      "3    334   0.29  Premium     I     VS2   62.4   58.0  4.20  4.23  2.63   \n",
      "4    335   0.31     Good     J     SI2   63.3   58.0  4.34  4.35  2.75   \n",
      "\n",
      "  carat_category  \n",
      "0     (0.2, 1.0]  \n",
      "1     (0.2, 1.0]  \n",
      "2     (0.2, 1.0]  \n",
      "3     (0.2, 1.0]  \n",
      "4     (0.2, 1.0]  \n"
     ]
    }
   ],
   "source": [
    "# filtering for a single category\n",
    "single_category = pd.Interval(0.2, 1.0, closed='right')\n",
    "\n",
    "# Apply the filter\n",
    "filtered_df = diamonds[diamonds['carat_category'] == single_category]\n",
    "\n",
    "print(filtered_df.head())\n"
   ]
  },
  {
   "cell_type": "code",
   "execution_count": 8,
   "metadata": {},
   "outputs": [],
   "source": [
    "diamonds['carat_category'] = pd.cut(diamonds['carat'], bins=bins)\n"
   ]
  },
  {
   "cell_type": "code",
   "execution_count": 12,
   "metadata": {},
   "outputs": [
    {
     "name": "stdout",
     "output_type": "stream",
     "text": [
      "   price  carat      cut color clarity  depth  table     x     y     z  \\\n",
      "0    326   0.23    Ideal     E     SI2   61.5   55.0  3.95  3.98  2.43   \n",
      "1    326   0.21  Premium     E     SI1   59.8   61.0  3.89  3.84  2.31   \n",
      "2    327   0.23     Good     E     VS1   56.9   65.0  4.05  4.07  2.31   \n",
      "3    334   0.29  Premium     I     VS2   62.4   58.0  4.20  4.23  2.63   \n",
      "4    335   0.31     Good     J     SI2   63.3   58.0  4.34  4.35  2.75   \n",
      "\n",
      "  carat_category  \n",
      "0     (0.2, 1.0]  \n",
      "1     (0.2, 1.0]  \n",
      "2     (0.2, 1.0]  \n",
      "3     (0.2, 1.0]  \n",
      "4     (0.2, 1.0]  \n"
     ]
    }
   ],
   "source": [
    "# Get the intervals from pd.cut\n",
    "categories = pd.IntervalIndex.from_breaks([0.2, 1.0, 2.0, 3.0,4.0])\n",
    "\n",
    "# Filter the DataFrame using the actual intervals\n",
    "filtered_df = diamonds[diamonds['carat_category'].isin(categories)]\n",
    "\n",
    "# Check the filtered DataFrame\n",
    "print(filtered_df.head())\n"
   ]
  },
  {
   "cell_type": "code",
   "execution_count": 23,
   "metadata": {},
   "outputs": [
    {
     "name": "stdout",
     "output_type": "stream",
     "text": [
      "Z-test Statistic: -285.2509168804081, p-value: 0.0\n"
     ]
    }
   ],
   "source": [
    "import numpy as np\n",
    "from statsmodels.stats.weightstats import ztest\n",
    "\n",
    "# Assuming to compare two carat categories, e.g., (0.2, 1.0] vs (1.0, 2.0]\n",
    "category1 = diamonds[diamonds['carat_category'] == pd.Interval(0.2, 1.0, closed='right')]['price']\n",
    "category2 = diamonds[diamonds['carat_category'] == pd.Interval(1.0, 2.0, closed='right')]['price']\n",
    "\n",
    "# Perform the Z-test\n",
    "z_stat, p_value = ztest(category1, category2)\n",
    "\n",
    "\n",
    "# Print the results\n",
    "print(f\"Z-test Statistic: {z_stat}, p-value: {p_value}\")\n"
   ]
  },
  {
   "cell_type": "markdown",
   "metadata": {},
   "source": [
    "`interpretation of results`\n",
    "- the p_value is less than 0.05 hence we do not accept the null hypothesis and take the alternative hypothesis"
   ]
  },
  {
   "cell_type": "code",
   "execution_count": null,
   "metadata": {},
   "outputs": [],
   "source": [
    "category3 = diamonds[diamonds['carat_category'] == pd.Interval(2.0, 3.0, closed='right')]['price']\n",
    "category4 = diamonds[diamonds['carat_category'] == pd.Interval(3.0, 4.0, closed='right')]['price']\n",
    "\n",
    "z_stat, p_value = ztest(category3, category4)\n",
    "\n",
    "print(f\"Z-test Statistic:{z_stat}, p_value: {p_value}\")\n"
   ]
  },
  {
   "cell_type": "markdown",
   "metadata": {},
   "source": [
    "#### Finding out if the hypothesis that the average price of 'premium 'diamonds is 150"
   ]
  },
  {
   "cell_type": "code",
   "execution_count": 11,
   "metadata": {},
   "outputs": [
    {
     "name": "stdout",
     "output_type": "stream",
     "text": [
      "T-statistic: 119.73104883785925, P-value: 0.0\n"
     ]
    }
   ],
   "source": [
    "import scipy.stats as stats\n",
    "\n",
    "# Filter the dataset to include only Premium diamonds\n",
    "premium_diamonds = diamonds[diamonds['cut'] == 'Premium']\n",
    "\n",
    "# Perform a one-sample t-test\n",
    "t_statistic, p_value = stats.ttest_1samp(premium_diamonds['price'], 150)\n",
    "\n",
    "# Display the t-statistic and p-value\n",
    "print(f\"T-statistic: {t_statistic}, P-value: {p_value}\")\n"
   ]
  },
  {
   "cell_type": "markdown",
   "metadata": {},
   "source": [
    "`Interpretation of results`\n",
    "- the p-value is less than 0.05 hence reject the null hypothesis\n",
    "- we reject the null hypothesis and accept the alternative hypothesis"
   ]
  }
 ],
 "metadata": {
  "kernelspec": {
   "display_name": "base",
   "language": "python",
   "name": "python3"
  },
  "language_info": {
   "codemirror_mode": {
    "name": "ipython",
    "version": 3
   },
   "file_extension": ".py",
   "mimetype": "text/x-python",
   "name": "python",
   "nbconvert_exporter": "python",
   "pygments_lexer": "ipython3",
   "version": "3.12.4"
  }
 },
 "nbformat": 4,
 "nbformat_minor": 2
}
