{
 "cells": [
  {
   "cell_type": "markdown",
   "metadata": {},
   "source": [
    "# BSDS\n",
    "## Ssemambo Joshua Humble\n",
    "## humblejoshua52@gmail.com\n",
    "## M24B38/003\n",
    "## Probability\n",
    "### Stats"
   ]
  },
  {
   "cell_type": "markdown",
   "metadata": {},
   "source": [
    "- Number One\n",
    "- This is a <br />paragraph\n",
    "- <i>This is italics</i>\n",
    "- <i>You can apply anything tags from <strong>HTML</strong></i>"
   ]
  },
  {
   "cell_type": "code",
   "execution_count": 1,
   "metadata": {},
   "outputs": [
    {
     "name": "stdout",
     "output_type": "stream",
     "text": [
      "Hello world\n"
     ]
    }
   ],
   "source": [
    "print(\"Hello world\")"
   ]
  },
  {
   "cell_type": "code",
   "execution_count": 3,
   "metadata": {},
   "outputs": [
    {
     "name": "stdout",
     "output_type": "stream",
     "text": [
      "0.5\n"
     ]
    }
   ],
   "source": [
    "## given a color\n",
    "sample_space = 2 #{H,T}\n",
    "\n",
    "event = 1 #H\n",
    "\n",
    "probability = event/sample_space\n",
    "\n",
    "print(probability)"
   ]
  },
  {
   "cell_type": "code",
   "execution_count": 2,
   "metadata": {},
   "outputs": [
    {
     "name": "stdout",
     "output_type": "stream",
     "text": [
      "The probability is 0.5\n"
     ]
    }
   ],
   "source": [
    "sample_space = {'red', 'blue', 'green', 'white', 'red'}\n",
    "event = 'red'\n",
    "len(sample_space)\n",
    "event_red = 2\n",
    "probability = 2/len(sample_space)\n",
    "\n",
    "print(\"The probability is\", probability)"
   ]
  },
  {
   "cell_type": "code",
   "execution_count": 10,
   "metadata": {},
   "outputs": [
    {
     "name": "stdout",
     "output_type": "stream",
     "text": [
      "Probaility of red marble: 0.65\n",
      "probability of smooth marble: 0.6\n",
      "P(red and smooth): 0.39\n"
     ]
    }
   ],
   "source": [
    "#marginal\n",
    "#8 red and smooth\n",
    "#5 red and rough\n",
    "#4 blue and smooth\n",
    "#3 blue and rough\n",
    "\n",
    "#probaility of a red marble\n",
    "event_red = 8+5\n",
    "sample_space = 8+5+4+3\n",
    "probability_red = event_red/sample_space \n",
    "print(\"Probaility of red marble:\", probability_red)\n",
    "\n",
    "#probability of smooth marble\n",
    "event_smooth = 8+4\n",
    "probability_smooth = event_smooth/sample_space\n",
    "print(\"probability of smooth marble:\", probability_smooth)\n",
    "\n",
    "#Joint probability\n",
    "#Probaility of marble both red and smooth\n",
    "event_red_and_smooth = 8\n",
    "Probaility_red_and_smooth = event_red_and_smooth/sample_space\n",
    "print(\"Probability of red and smooth:\", Probaility_red_and_smooth)\n"
   ]
  }
 ],
 "metadata": {
  "kernelspec": {
   "display_name": "Python 3",
   "language": "python",
   "name": "python3"
  },
  "language_info": {
   "codemirror_mode": {
    "name": "ipython",
    "version": 3
   },
   "file_extension": ".py",
   "mimetype": "text/x-python",
   "name": "python",
   "nbconvert_exporter": "python",
   "pygments_lexer": "ipython3",
   "version": "3.12.7"
  }
 },
 "nbformat": 4,
 "nbformat_minor": 2
}
